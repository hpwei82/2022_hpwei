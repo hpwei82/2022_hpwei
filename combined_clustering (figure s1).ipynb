{
 "cells": [
  {
   "cell_type": "code",
   "execution_count": 1,
   "metadata": {
    "pycharm": {
     "name": "#%%\n"
    }
   },
   "outputs": [],
   "source": [
    "%load_ext autoreload\n",
    "%autoreload 2\n",
    "%config InlineBackend.figure_formats = [\"svg\"]\n",
    "\n",
    "import sys\n",
    "\n",
    "import matplotlib.pyplot as plt\n",
    "import numpy as np\n",
    "import pandas as pd\n",
    "\n",
    "from scipy.ndimage import gaussian_filter, percentile_filter\n",
    "\n",
    "sys.path.append(\"../\")\n",
    "\n",
    "from per_analysis import config\n",
    "from per_analysis.figures import cmap, cplot, qplot, scale_bar, \\\n",
    "    plot_per_trajectory2\n",
    "from per_analysis.timeseries import hysteresis, dtw"
   ]
  },
  {
   "cell_type": "code",
   "execution_count": 2,
   "metadata": {
    "pycharm": {
     "name": "#%%\n"
    }
   },
   "outputs": [],
   "source": [
    "pd.options.display.max_rows = 5\n",
    "plt.style.use(\"../styles/custom.mplstyle\")"
   ]
  },
  {
   "cell_type": "code",
   "execution_count": 3,
   "metadata": {
    "pycharm": {
     "name": "#%%\n"
    }
   },
   "outputs": [],
   "source": [
    "def preprocess(df, percentile, size, sigma, discard=()):\n",
    "    df = df[~df.fly.isin(discard)].copy()\n",
    "    df[\"time\"] = df.trial * config.TRIAL_DURATION + df.frame / config.FRAME_RATE\n",
    "    angles = [angle for angle in df.columns if \"angle\" in angle]\n",
    "\n",
    "    for fly, df_fly in df.groupby(\"fly\"):\n",
    "        for angle in angles:\n",
    "            x = df_fly[angle]\n",
    "            \n",
    "            # compute baseline by a percentile filter\n",
    "            baseline = percentile_filter(x, percentile, size * config.FRAME_RATE)\n",
    "            \n",
    "            # smooth the signal with a Gaussian filter\n",
    "            filtered = gaussian_filter(x - baseline, sigma, mode=\"nearest\")\n",
    "            df.loc[df.fly == fly, angle] = filtered\n",
    "\n",
    "    return df\n",
    "\n",
    "\n",
    "def detect_per(df, angle, low, high):\n",
    "    df_per = pd.DataFrame()\n",
    "\n",
    "    for fly, df_fly in df.groupby(\"fly\"):\n",
    "        # get the PER intervals by hysteresis thresholding\n",
    "        intervals = hysteresis(df_fly[angle], low, high)\n",
    "\n",
    "        if len(intervals) > 0:\n",
    "            df_fly_per = pd.DataFrame(intervals, columns=(\"start\", \"stop\"))\n",
    "            df_fly_per[\"fly\"] = fly\n",
    "            df_per = df_per.append(df_fly_per, ignore_index=True)\n",
    "\n",
    "    df_per.sort_index(axis=1, inplace=True)\n",
    "\n",
    "    return df_per\n",
    "\n",
    "\n",
    "def assign_per_stimulus(df_per, odor_per_interval):\n",
    "    for fly, df_fly_per in df_per.groupby(\"fly\"):\n",
    "        df_fly = df[df.fly == fly]\n",
    "\n",
    "        for i, row in df_fly_per.iterrows():\n",
    "            t_start = (row[\"start\"] / config.FRAME_RATE) % config.TRIAL_DURATION\n",
    "\n",
    "            if df_fly.iloc[row[\"start\"]].stimulus == \"Sucrose\" or \\\n",
    "                    (odor_per_interval[0] < t_start < odor_per_interval[1]):\n",
    "                df_per.loc[i, \"stimulus\"] = df_fly.iloc[row.start].stimulus\n",
    "                df_per.loc[i, \"percentage\"] = df_fly.iloc[row.start].percentage\n",
    "\n",
    "\n",
    "def angles_pca(angles, n_components):\n",
    "    from sklearn.pipeline import make_pipeline\n",
    "    from sklearn.preprocessing import StandardScaler\n",
    "    from sklearn.decomposition import PCA\n",
    "\n",
    "\n",
    "    # Normalize before passing to PCA\n",
    "    pipeline = make_pipeline(StandardScaler(), PCA(n_components))\n",
    "\n",
    "    # Fit and transform angles\n",
    "    pcs = pipeline.fit_transform(angles)\n",
    "\n",
    "    return pcs\n",
    "\n",
    "\n",
    "def extract_per_angles_pcs(df, df_per):\n",
    "    per_angles = []\n",
    "    per_pcs = []\n",
    "\n",
    "    for fly, df_fly_per in df_per.groupby(\"fly\"):\n",
    "        df_fly = df[df.fly == fly]\n",
    "\n",
    "        for row in df_fly_per.itertuples():\n",
    "            per_angles.append(df_fly.iloc[row.start : row.stop][angle_cols[:2]].values)\n",
    "            per_pcs.append(df_fly.iloc[row.start : row.stop][pc_cols].values)\n",
    "\n",
    "    per_angles = np.array(per_angles, dtype=object)\n",
    "    per_pcs = np.array(per_pcs, dtype=object)\n",
    "\n",
    "    return per_angles, per_pcs\n",
    "\n",
    "\n",
    "def visualize_clusters(per_angles, labels, t_max=3, n_col=3, w=1.5, h=1.5, bar_length=45, rasterized=True):\n",
    "    from matplotlib.cm import ScalarMappable\n",
    "    from matplotlib.colors import Normalize\n",
    "\n",
    "    unique_labels = np.sort(np.unique(labels))\n",
    "    n_clusters = len(unique_labels)\n",
    "\n",
    "    norm = Normalize(vmin=0, vmax=t_max, clip=True)\n",
    "    n_row = int(np.ceil(n_clusters / n_col))\n",
    "\n",
    "    fig, axes = plt.subplots(n_row, n_col, sharex=\"all\", sharey=\"all\", figsize=(n_col * w, n_row * h))\n",
    "\n",
    "    for i, k in enumerate(unique_labels):\n",
    "        ax = axes.ravel()[i]\n",
    "\n",
    "        for X in per_angles[labels == k]:\n",
    "            artist = cplot(X, c=np.arange(len(X)) / config.FRAME_RATE, norm=norm, cmap=cmap.rainbow, ax=ax, linewidths=.5)\n",
    "            artist.set_rasterized(rasterized)\n",
    "\n",
    "    for ax in axes.ravel():\n",
    "        ax.axis(\"off\")\n",
    "\n",
    "    ax = axes[-1, 0]\n",
    "\n",
    "    x0, y0 = np.min([i.min(0) for i in per_angles], 0)\n",
    "    scale_bar(x0, bar_length, unit=\"°\", text_pad=-.04, axis=\"x\", ax=ax)\n",
    "    scale_bar(y0, bar_length, unit=\"°\", axis=\"y\", ax=ax)\n",
    "\n",
    "    fig.subplots_adjust(wspace=0, hspace=0, bottom=0, left=0, right=1, top=1)\n",
    "\n",
    "    cax = fig.add_axes([1, .3, .02, .4])\n",
    "    mappable = ScalarMappable(cmap=cmap.rainbow, norm=norm)\n",
    "    cb = fig.colorbar(mappable, cax=cax)\n",
    "    cb.set_label(\"Time (s)\", rotation=270, va=\"bottom\")\n",
    "    fig.supxlabel(\"Haustellum angle\", x=.5, y=-0.02, va=\"top\")\n",
    "    fig.supylabel(\"Rostrum angle\", x=-0.02, y=.5, ha=\"right\")"
   ]
  },
  {
   "cell_type": "markdown",
   "metadata": {},
   "source": [
    "### Data preprocessing"
   ]
  },
  {
   "cell_type": "code",
   "execution_count": 4,
   "metadata": {
    "pycharm": {
     "name": "#%%\n"
    }
   },
   "outputs": [
    {
     "data": {
      "text/html": [
       "<div>\n",
       "<style scoped>\n",
       "    .dataframe tbody tr th:only-of-type {\n",
       "        vertical-align: middle;\n",
       "    }\n",
       "\n",
       "    .dataframe tbody tr th {\n",
       "        vertical-align: top;\n",
       "    }\n",
       "\n",
       "    .dataframe thead th {\n",
       "        text-align: right;\n",
       "    }\n",
       "</style>\n",
       "<table border=\"1\" class=\"dataframe\">\n",
       "  <thead>\n",
       "    <tr style=\"text-align: right;\">\n",
       "      <th></th>\n",
       "      <th>fly</th>\n",
       "      <th>stimulus</th>\n",
       "      <th>trial</th>\n",
       "      <th>frame</th>\n",
       "      <th>haustellum_angle</th>\n",
       "      <th>rostrum_angle</th>\n",
       "      <th>labella_angle</th>\n",
       "      <th>percentage</th>\n",
       "      <th>time</th>\n",
       "      <th>pc1</th>\n",
       "      <th>pc2</th>\n",
       "    </tr>\n",
       "  </thead>\n",
       "  <tbody>\n",
       "    <tr>\n",
       "      <th>7836</th>\n",
       "      <td>20190904-2</td>\n",
       "      <td>EBR</td>\n",
       "      <td>0</td>\n",
       "      <td>0</td>\n",
       "      <td>0.961496</td>\n",
       "      <td>1.388101</td>\n",
       "      <td>-0.119086</td>\n",
       "      <td>50.0</td>\n",
       "      <td>0.00</td>\n",
       "      <td>-0.667417</td>\n",
       "      <td>0.106704</td>\n",
       "    </tr>\n",
       "    <tr>\n",
       "      <th>7837</th>\n",
       "      <td>20190904-2</td>\n",
       "      <td>EBR</td>\n",
       "      <td>0</td>\n",
       "      <td>1</td>\n",
       "      <td>0.942490</td>\n",
       "      <td>1.619320</td>\n",
       "      <td>-0.251009</td>\n",
       "      <td>50.0</td>\n",
       "      <td>0.05</td>\n",
       "      <td>-0.664107</td>\n",
       "      <td>0.107258</td>\n",
       "    </tr>\n",
       "    <tr>\n",
       "      <th>...</th>\n",
       "      <td>...</td>\n",
       "      <td>...</td>\n",
       "      <td>...</td>\n",
       "      <td>...</td>\n",
       "      <td>...</td>\n",
       "      <td>...</td>\n",
       "      <td>...</td>\n",
       "      <td>...</td>\n",
       "      <td>...</td>\n",
       "      <td>...</td>\n",
       "      <td>...</td>\n",
       "    </tr>\n",
       "    <tr>\n",
       "      <th>215734</th>\n",
       "      <td>20210827-36</td>\n",
       "      <td>Sucrose</td>\n",
       "      <td>2</td>\n",
       "      <td>298</td>\n",
       "      <td>-0.041171</td>\n",
       "      <td>0.505626</td>\n",
       "      <td>0.619724</td>\n",
       "      <td>1.0</td>\n",
       "      <td>44.90</td>\n",
       "      <td>-0.715403</td>\n",
       "      <td>0.025043</td>\n",
       "    </tr>\n",
       "    <tr>\n",
       "      <th>215735</th>\n",
       "      <td>20210827-36</td>\n",
       "      <td>Sucrose</td>\n",
       "      <td>2</td>\n",
       "      <td>299</td>\n",
       "      <td>-0.721209</td>\n",
       "      <td>-0.021923</td>\n",
       "      <td>0.466575</td>\n",
       "      <td>1.0</td>\n",
       "      <td>44.95</td>\n",
       "      <td>-0.776523</td>\n",
       "      <td>-0.002453</td>\n",
       "    </tr>\n",
       "  </tbody>\n",
       "</table>\n",
       "<p>188100 rows × 11 columns</p>\n",
       "</div>"
      ],
      "text/plain": [
       "                fly stimulus  trial  frame  haustellum_angle  rostrum_angle  \\\n",
       "7836     20190904-2      EBR      0      0          0.961496       1.388101   \n",
       "7837     20190904-2      EBR      0      1          0.942490       1.619320   \n",
       "...             ...      ...    ...    ...               ...            ...   \n",
       "215734  20210827-36  Sucrose      2    298         -0.041171       0.505626   \n",
       "215735  20210827-36  Sucrose      2    299         -0.721209      -0.021923   \n",
       "\n",
       "        labella_angle  percentage   time       pc1       pc2  \n",
       "7836        -0.119086        50.0   0.00 -0.667417  0.106704  \n",
       "7837        -0.251009        50.0   0.05 -0.664107  0.107258  \n",
       "...               ...         ...    ...       ...       ...  \n",
       "215734       0.619724         1.0  44.90 -0.715403  0.025043  \n",
       "215735       0.466575         1.0  44.95 -0.776523 -0.002453  \n",
       "\n",
       "[188100 rows x 11 columns]"
      ]
     },
     "execution_count": 4,
     "metadata": {},
     "output_type": "execute_result"
    }
   ],
   "source": [
    "# flies to be excluded for analysis (due to tracking error, missing data etc.)\n",
    "discard = (\"20210827-12\", \"20210827-13\", \"20210827-14\", \"20210827-37\",\n",
    "           \"20190904-1\", \"20190904-10\", \"20190905-5\")\n",
    "df = pd.read_csv(\"../data/data.csv\")\n",
    "\n",
    "# preprocess data\n",
    "df = preprocess(df, percentile=25, size=5, sigma=1,\n",
    "                discard=discard)\n",
    "\n",
    "# PCA\n",
    "angle_cols = [\"haustellum_angle\", \"rostrum_angle\", \"labella_angle\"]\n",
    "pc_cols = [\"pc1\", \"pc2\"]\n",
    "df[pc_cols] = angles_pca(df[angle_cols], n_components=2)\n",
    "df"
   ]
  },
  {
   "cell_type": "markdown",
   "metadata": {},
   "source": [
    "### PER detection"
   ]
  },
  {
   "cell_type": "code",
   "execution_count": 5,
   "metadata": {
    "pycharm": {
     "name": "#%%\n"
    }
   },
   "outputs": [
    {
     "data": {
      "text/html": [
       "<div>\n",
       "<style scoped>\n",
       "    .dataframe tbody tr th:only-of-type {\n",
       "        vertical-align: middle;\n",
       "    }\n",
       "\n",
       "    .dataframe tbody tr th {\n",
       "        vertical-align: top;\n",
       "    }\n",
       "\n",
       "    .dataframe thead th {\n",
       "        text-align: right;\n",
       "    }\n",
       "</style>\n",
       "<table border=\"1\" class=\"dataframe\">\n",
       "  <thead>\n",
       "    <tr style=\"text-align: right;\">\n",
       "      <th></th>\n",
       "      <th>fly</th>\n",
       "      <th>start</th>\n",
       "      <th>stop</th>\n",
       "      <th>stimulus</th>\n",
       "      <th>percentage</th>\n",
       "    </tr>\n",
       "  </thead>\n",
       "  <tbody>\n",
       "    <tr>\n",
       "      <th>0</th>\n",
       "      <td>20190904-2</td>\n",
       "      <td>74</td>\n",
       "      <td>123</td>\n",
       "      <td>EBR</td>\n",
       "      <td>50.0</td>\n",
       "    </tr>\n",
       "    <tr>\n",
       "      <th>1</th>\n",
       "      <td>20190904-2</td>\n",
       "      <td>300</td>\n",
       "      <td>325</td>\n",
       "      <td>NaN</td>\n",
       "      <td>NaN</td>\n",
       "    </tr>\n",
       "    <tr>\n",
       "      <th>...</th>\n",
       "      <td>...</td>\n",
       "      <td>...</td>\n",
       "      <td>...</td>\n",
       "      <td>...</td>\n",
       "      <td>...</td>\n",
       "    </tr>\n",
       "    <tr>\n",
       "      <th>1743</th>\n",
       "      <td>20210827-36</td>\n",
       "      <td>75</td>\n",
       "      <td>129</td>\n",
       "      <td>Sucrose</td>\n",
       "      <td>1.0</td>\n",
       "    </tr>\n",
       "    <tr>\n",
       "      <th>1744</th>\n",
       "      <td>20210827-36</td>\n",
       "      <td>235</td>\n",
       "      <td>262</td>\n",
       "      <td>Sucrose</td>\n",
       "      <td>1.0</td>\n",
       "    </tr>\n",
       "  </tbody>\n",
       "</table>\n",
       "<p>1745 rows × 5 columns</p>\n",
       "</div>"
      ],
      "text/plain": [
       "              fly  start  stop stimulus  percentage\n",
       "0      20190904-2     74   123      EBR        50.0\n",
       "1      20190904-2    300   325      NaN         NaN\n",
       "...           ...    ...   ...      ...         ...\n",
       "1743  20210827-36     75   129  Sucrose         1.0\n",
       "1744  20210827-36    235   262  Sucrose         1.0\n",
       "\n",
       "[1745 rows x 5 columns]"
      ]
     },
     "execution_count": 5,
     "metadata": {},
     "output_type": "execute_result"
    }
   ],
   "source": [
    "df_per = detect_per(df, angle=\"rostrum_angle\", low=5, high=15)\n",
    "assign_per_stimulus(df_per, odor_per_interval=(2, 7))\n",
    "per_angles, per_pcs = extract_per_angles_pcs(df, df_per)\n",
    "df_per"
   ]
  },
  {
   "cell_type": "markdown",
   "metadata": {},
   "source": [
    "### Compute DTW distance matrix"
   ]
  },
  {
   "cell_type": "code",
   "execution_count": null,
   "metadata": {
    "pycharm": {
     "name": "#%%\n"
    }
   },
   "outputs": [],
   "source": [
    "# time window for dynamic time warping, in frames\n",
    "w = 5\n",
    "\n",
    "try:\n",
    "    D = np.load(f\"../data/D{w}.npy\")\n",
    "except FileNotFoundError:\n",
    "    n_per = len(df_per)\n",
    "    D = np.zeros((n_per,) * 2)\n",
    "\n",
    "    for i in range(n_per):\n",
    "        for j in range(i, n_per):\n",
    "            D[i, j] = D[j, i] = dtw(per_pcs[i], per_pcs[j], w)\n",
    "\n",
    "    np.save(f\"../data/D{w}.npy\")"
   ]
  },
  {
   "cell_type": "markdown",
   "metadata": {},
   "source": [
    "### Clustering\n",
    "Clusters were obtained from the distance matrix using the K-Medoids algorithm, which allows the use of arbitrary dissimilarity measures. The number of clusters was determined from the inertia curve by the elbow method ."
   ]
  },
  {
   "cell_type": "code",
   "execution_count": null,
   "metadata": {
    "pycharm": {
     "name": "#%%\n"
    }
   },
   "outputs": [],
   "source": [
    "from sklearn_extra.cluster import KMedoids\n",
    "\n",
    "n_clusters_range = np.arange(2, 10)\n",
    "n_rep = 5\n",
    "inertia = np.mean([\n",
    "    [KMedoids(n_clusters, metric=\"precomputed\", method=\"pam\", random_state=i).fit(D).inertia_\n",
    "     for n_clusters in n_clusters_range]\n",
    "    for i in range(n_rep)\n",
    "], axis=0)"
   ]
  },
  {
   "cell_type": "code",
   "execution_count": null,
   "metadata": {
    "pycharm": {
     "name": "#%%\n"
    }
   },
   "outputs": [],
   "source": [
    "fig, ax = plt.subplots(1, 1, figsize=(2, 1.5))\n",
    "ax.plot(n_clusters_range, inertia, marker=\".\", lw=1, markersize=3, c=\"k\")\n",
    "\n",
    "for side in (\"top\", \"right\"):\n",
    "    ax.spines[side].set_visible(False)\n",
    "\n",
    "ax.set_xticks(n_clusters_range)\n",
    "ax.set_yticks([])\n",
    "ax.set_xlabel(\"K\")\n",
    "ax.set_ylabel(\"Inertia\")"
   ]
  },
  {
   "cell_type": "markdown",
   "metadata": {},
   "source": [
    "Plot all trajectories in each cluster"
   ]
  },
  {
   "cell_type": "code",
   "execution_count": null,
   "metadata": {
    "pycharm": {
     "name": "#%%\n"
    }
   },
   "outputs": [],
   "source": [
    "n_clusters = 5\n",
    "km = KMedoids(n_clusters, metric=\"precomputed\", method=\"pam\", random_state=0).fit(D)\n",
    "visualize_clusters(per_angles, km.labels_, t_max=2)"
   ]
  },
  {
   "cell_type": "markdown",
   "metadata": {},
   "source": [
    "Plot trajectories of cluster medoids"
   ]
  },
  {
   "cell_type": "code",
   "execution_count": null,
   "metadata": {},
   "outputs": [],
   "source": [
    "fig, ax = plt.subplots(figsize=(2.5, 2.5))\n",
    "for i, X in enumerate(per_angles[km.medoid_indices_]):\n",
    "    qplot(*X.T, lw=1, c=f\"C{i}\")\n",
    "    ax.text(*X.max(0) + (2, -2), i+1, color=f\"C{i}\")\n",
    "ax.spines[\"top\"].set_visible(False)\n",
    "ax.spines[\"right\"].set_visible(False)\n",
    "ax.set_xlabel(\"Haustellum angle (°)\")\n",
    "ax.set_ylabel(\"Rostrum angle (°)\")"
   ]
  },
  {
   "cell_type": "markdown",
   "metadata": {},
   "source": [
    "For each odor, choose the PERs that are closest to the cluster medoids as exemplars"
   ]
  },
  {
   "cell_type": "code",
   "execution_count": null,
   "metadata": {
    "pycharm": {
     "name": "#%%\n"
    }
   },
   "outputs": [],
   "source": [
    "min_length = 5\n",
    "df_per[\"cluster\"] = km.labels_\n",
    "idx_exemplars = []\n",
    "\n",
    "for (stimulus, k), df_ in df_per.groupby([\"stimulus\", \"cluster\"]):\n",
    "    df_ = df_[(df_[\"stop\"] - df_[\"start\"]) >= min_length]\n",
    "    \n",
    "    # ensure the number of PER belonging to that cluster to be not less than 5\n",
    "    if len(df_) >= 5:\n",
    "        idx = np.argmin(D[km.medoid_indices_[k]][df_.index])\n",
    "        idx_exemplars.append(df_.index.values[idx])"
   ]
  },
  {
   "cell_type": "code",
   "execution_count": null,
   "metadata": {
    "pycharm": {
     "name": "#%%\n"
    }
   },
   "outputs": [],
   "source": [
    "def plot_odor_per_exemplars(per_angles, df_per, idx, wspace=0,  hspace=.5, figsize=(4.5, 4.5), include_sucrose=False):\n",
    "    df_per_odor = df_per.iloc[idx].copy()\n",
    "    if include_sucrose:\n",
    "        ncol = 4\n",
    "        order = config.ODOR_COL_ORDER[:3] + (\"0.25% Sucrose\",) + \\\n",
    "                config.ODOR_COL_ORDER[3:6] + (\"1% Sucrose\",) + \\\n",
    "                config.ODOR_COL_ORDER[6:9]\n",
    "        df_per_odor.loc[(df_per_odor.stimulus == \"Sucrose\") & (df_per_odor.percentage == 0.25), \"stimulus\"] = \"0.25% Sucrose\"\n",
    "        df_per_odor.loc[(df_per_odor.stimulus == \"Sucrose\") & (df_per_odor.percentage == 1.0), \"stimulus\"] = \"1% Sucrose\"\n",
    "        df_per_odor = df_per_odor[df_per_odor.stimulus.isin(order)]\n",
    "    else:\n",
    "        ncol = 3\n",
    "        order = config.ODOR_COL_ORDER\n",
    "\n",
    "    xlim, ylim = np.array([np.concatenate(per_angles[idx]).min(0),\n",
    "                           np.concatenate(per_angles[idx]).max(0)]).T\n",
    "    fig = plot_per_trajectory2(df_per_odor, per_angles, figsize=figsize,\n",
    "                               spines=False, xlim=xlim, ylim=ylim,\n",
    "                               xlabel=\"Haustellum angle\",\n",
    "                               ylabel=\"Rostrum angle\",\n",
    "                               quiver=True, order=order, ncol=ncol)\n",
    "\n",
    "    fig.subplots_adjust(wspace=wspace, hspace=hspace)\n",
    "    axes = np.array(fig.axes).reshape(-1, ncol)\n",
    "    plt.sca(axes[-1, 0])\n",
    "    scale_bar(xlim[0], 45, \"°\", pad=-.05, text_pad=-.08, axis=\"x\", lw=1)\n",
    "    scale_bar(ylim[0], 45, \"°\", pad=-.05, text_pad=-.05, axis=\"y\", lw=1)"
   ]
  },
  {
   "cell_type": "markdown",
   "metadata": {},
   "source": [
    "Plot cluster exemplars for each odor"
   ]
  },
  {
   "cell_type": "code",
   "execution_count": null,
   "metadata": {
    "pycharm": {
     "name": "#%%\n"
    }
   },
   "outputs": [],
   "source": [
    "plot_odor_per_exemplars(per_angles, df_per, idx_exemplars)"
   ]
  },
  {
   "cell_type": "markdown",
   "metadata": {},
   "source": [
    "Plot cluster exemplars for each odor and for sucrose"
   ]
  },
  {
   "cell_type": "code",
   "execution_count": null,
   "metadata": {
    "pycharm": {
     "name": "#%%\n"
    }
   },
   "outputs": [],
   "source": [
    "plot_odor_per_exemplars(per_angles, df_per, idx_exemplars, include_sucrose=True)"
   ]
  },
  {
   "cell_type": "code",
   "execution_count": null,
   "metadata": {},
   "outputs": [],
   "source": []
  }
 ],
 "metadata": {
  "kernelspec": {
   "display_name": "Python 3",
   "language": "python",
   "name": "python3"
  },
  "language_info": {
   "codemirror_mode": {
    "name": "ipython",
    "version": 3
   },
   "file_extension": ".py",
   "mimetype": "text/x-python",
   "name": "python",
   "nbconvert_exporter": "python",
   "pygments_lexer": "ipython3",
   "version": "3.8.8"
  }
 },
 "nbformat": 4,
 "nbformat_minor": 1
}
