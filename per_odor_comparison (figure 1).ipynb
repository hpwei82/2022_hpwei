{
 "cells": [
  {
   "cell_type": "code",
   "execution_count": null,
   "outputs": [],
   "source": [
    "# auto-reload modules\n",
    "%load_ext autoreload\n",
    "%autoreload 2\n",
    "# %config InlineBackend.figure_formats = ['svg']"
   ],
   "metadata": {
    "collapsed": false,
    "pycharm": {
     "name": "#%%\n"
    }
   }
  },
  {
   "cell_type": "code",
   "execution_count": null,
   "metadata": {
    "collapsed": true
   },
   "outputs": [],
   "source": [
    "import sys\n",
    "import matplotlib.pyplot as plt\n",
    "import numpy as np\n",
    "import pandas as pd\n",
    "\n",
    "from scipy.ndimage import gaussian_filter\n",
    "\n",
    "sys.path.append(\"../\")\n",
    "\n",
    "from per_analysis import config\n",
    "from per_analysis.figures import cmap, cplot, savefig, WarpedAxes\n",
    "from per_analysis.stats import estimate_mode_1d\n",
    "from per_analysis.timeseries import asymmetric_hysteresis"
   ]
  },
  {
   "cell_type": "code",
   "execution_count": null,
   "outputs": [],
   "source": [
    "plt.style.use(\"../styles/custom.mplstyle\")"
   ],
   "metadata": {
    "collapsed": false,
    "pycharm": {
     "name": "#%%\n"
    }
   }
  },
  {
   "cell_type": "markdown",
   "source": [
    "## Load data"
   ],
   "metadata": {
    "collapsed": false,
    "pycharm": {
     "name": "#%% md\n"
    }
   }
  },
  {
   "cell_type": "code",
   "execution_count": null,
   "outputs": [],
   "source": [
    "csv_file = \"../data/WT_50%.csv\"\n",
    "df = pd.read_csv(csv_file)\n",
    "discard = (\n",
    "    \"20190904-1\",   # trial 10 only has 36 frames\n",
    "    \"20190904-10\",  # inaccurate tracking (e.g., 20190904-10-007 to 20190904-10-09)\n",
    "    \"20190905-5\",   # fly fell off in trial 6\n",
    ")\n",
    "\n",
    "df = df[~df.fly.isin(discard)]\n",
    "df[\"time\"] = df.trial * 15 + df.frame / 20\n",
    "df"
   ],
   "metadata": {
    "collapsed": false,
    "pycharm": {
     "name": "#%%\n"
    }
   }
  },
  {
   "cell_type": "markdown",
   "source": [
    "Subtract baseline angle"
   ],
   "metadata": {
    "collapsed": false,
    "pycharm": {
     "name": "#%% md\n"
    }
   }
  },
  {
   "cell_type": "code",
   "execution_count": null,
   "outputs": [],
   "source": [
    "angles = [angle for angle in df.columns if \"angle\" in angle]\n",
    "\n",
    "baseline = {\n",
    "    angle: {\n",
    "        fly: estimate_mode_1d(df_fly[angle], dx=1)\n",
    "        for fly, df_fly in df.groupby(\"fly\")\n",
    "    }\n",
    "    for angle in angles\n",
    "}\n",
    "\n",
    "for angle in angles:\n",
    "    for fly in df.fly.unique():\n",
    "        df.loc[df.fly == fly, angle] -= baseline[angle][fly]"
   ],
   "metadata": {
    "collapsed": false,
    "pycharm": {
     "name": "#%%\n"
    }
   }
  },
  {
   "cell_type": "markdown",
   "source": [
    "## PER detection"
   ],
   "metadata": {
    "collapsed": false,
    "pycharm": {
     "name": "#%% md\n"
    }
   }
  },
  {
   "cell_type": "code",
   "execution_count": null,
   "outputs": [],
   "source": [
    "df_per = pd.DataFrame()\n",
    "\n",
    "for fly, df_fly in df.groupby(\"fly\"):\n",
    "    y = gaussian_filter(df_fly.rostrum_angle, 5, mode=\"nearest\")\n",
    "    intervals = asymmetric_hysteresis(y, 5, 10, 15)\n",
    "    df_fly_per = pd.DataFrame(intervals, columns=(\"start\", \"stop\"))\n",
    "    df_fly_per[\"fly\"] = fly\n",
    "    df_per = df_per.append(df_fly_per, ignore_index=True)\n",
    "\n",
    "df_per.sort_index(axis=1, inplace=True)\n",
    "df_per"
   ],
   "metadata": {
    "collapsed": false,
    "pycharm": {
     "name": "#%%\n"
    }
   }
  },
  {
   "cell_type": "markdown",
   "source": [
    "Filter angle"
   ],
   "metadata": {
    "collapsed": false,
    "pycharm": {
     "name": "#%% md\n"
    }
   }
  },
  {
   "cell_type": "code",
   "execution_count": null,
   "outputs": [],
   "source": [
    "for fly, df_fly in df.groupby(\"fly\"):\n",
    "    for angle in angles:\n",
    "        y = gaussian_filter(df_fly[angle], 2, mode=\"nearest\")\n",
    "        df.loc[df.fly == fly, angle] = y"
   ],
   "metadata": {
    "collapsed": false,
    "pycharm": {
     "name": "#%%\n"
    }
   }
  },
  {
   "cell_type": "markdown",
   "source": [
    "Plot PER detection results. Results are saved in ../figures/per_detection."
   ],
   "metadata": {
    "collapsed": false,
    "pycharm": {
     "name": "#%% md\n"
    }
   }
  },
  {
   "cell_type": "code",
   "execution_count": null,
   "outputs": [],
   "source": [
    "vline_kws = dict(\n",
    "    marker=6,\n",
    "    markersize=3,\n",
    "    markeredgewidth=0,\n",
    "    markevery=2,\n",
    "    clip_on=False,\n",
    "    mfc=\"k\",\n",
    "    lw=0,\n",
    ")\n",
    "\n",
    "for fly, df_fly in df.groupby(\"fly\"):\n",
    "    ax = WarpedAxes(bins=np.linspace(0, 405, 4), figsize=(10, 3))\n",
    "    ax.plot(df_fly.time, df_fly.rostrum_angle, lw=1, c=\"k\")\n",
    "    ax.set_xmargin(0)\n",
    "    ax.set_xticks(np.arange(0, 405, 45) + 22.5)\n",
    "    for i, axi in enumerate(ax):\n",
    "        axi.set_xticks(np.arange(0, 135, 45) + i * 135 + 22.5)\n",
    "        axi.set_xticklabels(df_fly.odor.unique()[i*3:i*3+3])\n",
    "        axi.xaxis.tick_top()\n",
    "        axi.tick_params(axis=\"x\", length=0)\n",
    "        for x in np.arange(0, 135, 45) + i * 135:\n",
    "            axi.axvline(x, lw=1, c=\"k\", ls=\"--\", alpha=.5)\n",
    "        for j in range(9):\n",
    "            axi.axvline(j * 15 + 2 + i * 135, **vline_kws)\n",
    "            axi.axvline(j * 15 + 4 + i * 135, **vline_kws)\n",
    "\n",
    "    for row in df_per[df_per.fly == fly].itertuples():\n",
    "        ax.axvspan(row.start / config.FRAME_RATE, row.stop / config.FRAME_RATE, alpha=.2)\n",
    "\n",
    "    plt.tight_layout()\n",
    "    savefig(f\"../figures/per_detection/{fly}.png\")\n",
    "    plt.close()"
   ],
   "metadata": {
    "collapsed": false,
    "pycharm": {
     "name": "#%%\n"
    }
   }
  },
  {
   "cell_type": "code",
   "execution_count": null,
   "outputs": [],
   "source": [
    "from sklearn.decomposition import PCA\n",
    "from sklearn.pipeline import make_pipeline\n",
    "from sklearn.preprocessing import StandardScaler"
   ],
   "metadata": {
    "collapsed": false,
    "pycharm": {
     "name": "#%%\n"
    }
   }
  },
  {
   "cell_type": "markdown",
   "source": [
    "### PCA\n",
    "Dimension reduction from 3 dimensions (3 angles) to 2 dimensions."
   ],
   "metadata": {
    "collapsed": false,
    "pycharm": {
     "name": "#%% md\n"
    }
   }
  },
  {
   "cell_type": "code",
   "execution_count": null,
   "outputs": [],
   "source": [
    "n_components = 2\n",
    "\n",
    "# Normalize before passing to PCA\n",
    "pipeline = make_pipeline(StandardScaler(), PCA(n_components))\n",
    "\n",
    "# Fit and transform angles\n",
    "pc_columns = [f\"pc{i}\" for i in range(n_components)]\n",
    "Z = pipeline.fit_transform(df[angles])\n",
    "\n",
    "for i in range(n_components):\n",
    "    df[f\"pc{i}\"] = Z[:, i]"
   ],
   "metadata": {
    "collapsed": false,
    "pycharm": {
     "name": "#%%\n"
    }
   }
  },
  {
   "cell_type": "markdown",
   "source": [
    "Extract PCs and angles during PERs"
   ],
   "metadata": {
    "collapsed": false,
    "pycharm": {
     "name": "#%% md\n"
    }
   }
  },
  {
   "cell_type": "code",
   "execution_count": null,
   "outputs": [],
   "source": [
    "per_pcs = []\n",
    "per_angles = []\n",
    "\n",
    "for fly, df_fly_per in df_per.groupby(\"fly\"):\n",
    "    df_fly = df[df.fly == fly]\n",
    "\n",
    "    for row in df_fly_per.itertuples():\n",
    "        per_pcs.append(df_fly.iloc[row.start:row.stop][pc_columns].values)\n",
    "        per_angles.append(df_fly.iloc[row.start:row.stop][angles[:2]].values)\n",
    "\n",
    "per_pcs = np.array(per_pcs, dtype=object)\n",
    "per_angles = np.array(per_angles, dtype=object)"
   ],
   "metadata": {
    "collapsed": false,
    "pycharm": {
     "name": "#%%\n"
    }
   }
  },
  {
   "cell_type": "markdown",
   "source": [
    "Define PERs that are initiated within 5 seconds after odor presentation as odor-associated PER.\n",
    "(Only PERs that were initiated within t = 2 to 7 s are counted as odor-triggered PERs)."
   ],
   "metadata": {
    "collapsed": false,
    "pycharm": {
     "name": "#%% md\n"
    }
   }
  },
  {
   "cell_type": "code",
   "execution_count": null,
   "outputs": [],
   "source": [
    "max_per_delay = 5\n",
    "odor_start = config.ODOR_INTERVAL[0]\n",
    "odor_associated_per_interval = (odor_start, odor_start + max_per_delay)\n",
    "odor_associated_per_interval"
   ],
   "metadata": {
    "collapsed": false,
    "pycharm": {
     "name": "#%%\n"
    }
   }
  },
  {
   "cell_type": "markdown",
   "source": [
    "Assign odor identity to each PER"
   ],
   "metadata": {
    "collapsed": false,
    "pycharm": {
     "name": "#%% md\n"
    }
   }
  },
  {
   "cell_type": "code",
   "execution_count": null,
   "outputs": [],
   "source": [
    "df_per[\"odor\"] = \"\"\n",
    "\n",
    "for fly, df_fly_per in df_per.groupby(\"fly\"):\n",
    "    df_fly = df[df.fly == fly]\n",
    "\n",
    "    for i, row in df_fly_per.iterrows():\n",
    "        t_start = (row[\"start\"] / config.FRAME_RATE) % config.TRIAL_DURATION\n",
    "\n",
    "        if odor_associated_per_interval[0] < t_start < odor_associated_per_interval[1]:\n",
    "            df_per.loc[i, \"odor\"] = df_fly.iloc[row[\"start\"]].odor\n",
    "\n",
    "df_per.head(5)"
   ],
   "metadata": {
    "collapsed": false,
    "pycharm": {
     "name": "#%%\n"
    }
   }
  },
  {
   "cell_type": "markdown",
   "source": [
    "Plot principal component (PC) trajectory grouped by odor for individual flies.\n",
    "Figures are saved in `../figures/odor_trajectory_pcs`."
   ],
   "metadata": {
    "collapsed": false,
    "pycharm": {
     "name": "#%% md\n"
    }
   }
  },
  {
   "cell_type": "code",
   "execution_count": null,
   "outputs": [],
   "source": [
    "from per_analysis.figures import plot_per_trajectory\n",
    "\n",
    "# font size settings\n",
    "fontsize = 12\n",
    "plt.rcParams[\"font.size\"] = fontsize\n",
    "plt.rcParams[\"axes.titlesize\"] = fontsize\n",
    "plt.rcParams[\"axes.labelsize\"] = fontsize\n",
    "plt.rcParams[\"xtick.labelsize\"] = fontsize\n",
    "plt.rcParams[\"ytick.labelsize\"] = fontsize\n",
    "\n",
    "# maximum value for mapping time to color\n",
    "t_max = np.quantile([len(i) for i in per_pcs], .9) / config.FRAME_RATE\n",
    "\n",
    "xlim, ylim = np.array([np.concatenate(per_pcs).min(0), np.concatenate(per_pcs).max(0)]).T\n",
    "\n",
    "for fly, df_fly_per in df_per.groupby(\"fly\"):\n",
    "    fig = plot_per_trajectory(df_fly_per, per_pcs, t_max, figsize=(4.5, 4.5),\n",
    "                              spines=False, xlim=xlim, ylim=ylim, xlabel=\"PC1\", ylabel=\"PC2\")\n",
    "    fig.subplots_adjust(wspace=0, hspace=0.5)\n",
    "    savefig(f\"../figures/odor_trajectory_pcs/{fly}.png\")\n",
    "    plt.close()"
   ],
   "metadata": {
    "collapsed": false,
    "pycharm": {
     "name": "#%%\n"
    }
   }
  },
  {
   "cell_type": "markdown",
   "source": [
    "Summary of PC trajectory grouped by odors"
   ],
   "metadata": {
    "collapsed": false,
    "pycharm": {
     "name": "#%% md\n"
    }
   }
  },
  {
   "cell_type": "code",
   "execution_count": null,
   "outputs": [],
   "source": [
    "fig = plot_per_trajectory(df_per, per_pcs, t_max, figsize=(4.5, 4.5),\n",
    "                          spines=False, xlim=xlim, ylim=ylim, xlabel=\"PC1\", ylabel=\"PC2\")\n",
    "fig.subplots_adjust(wspace=0, hspace=0.5)\n",
    "savefig(f\"../figures/odor_trajectory_pcs.svg\")"
   ],
   "metadata": {
    "collapsed": false,
    "pycharm": {
     "name": "#%%\n"
    }
   }
  },
  {
   "cell_type": "markdown",
   "source": [
    "Plot angle trajectory grouped by odor for individual flies.\n",
    "Figures are saved in `../figures/odor_trajectory_angles`."
   ],
   "metadata": {
    "collapsed": false,
    "pycharm": {
     "name": "#%% md\n"
    }
   }
  },
  {
   "cell_type": "code",
   "execution_count": null,
   "outputs": [],
   "source": [
    "xlim, ylim = np.array([np.concatenate(per_angles).min(0), np.concatenate(per_angles).max(0)]).T\n",
    "\n",
    "for fly, df_fly_per in df_per.groupby(\"fly\"):\n",
    "    fig = plot_per_trajectory(df_fly_per, per_angles, t_max, figsize=(4.5, 4.5),\n",
    "                              spines=False, xlim=xlim, ylim=ylim, xlabel=\"Haustellum angle\", ylabel=\"Rostrum angle\")\n",
    "    fig.subplots_adjust(wspace=0, hspace=0.5)\n",
    "    savefig(f\"../figures/odor_trajectory_angles/{fly}.png\")\n",
    "    plt.close()"
   ],
   "metadata": {
    "collapsed": false,
    "pycharm": {
     "name": "#%%\n"
    }
   }
  },
  {
   "cell_type": "markdown",
   "source": [
    "Summary of angle trajectory grouped by odors"
   ],
   "metadata": {
    "collapsed": false,
    "pycharm": {
     "name": "#%% md\n"
    }
   }
  },
  {
   "cell_type": "code",
   "execution_count": null,
   "outputs": [],
   "source": [
    "fig = plot_per_trajectory(df_per, per_angles, t_max, figsize=(4.5, 4.5),\n",
    "                          spines=False, xlim=xlim, ylim=ylim, xlabel=\"Haustellum angle\", ylabel=\"Rostrum angle\")\n",
    "fig.subplots_adjust(wspace=0, hspace=0.5)\n",
    "ax = fig.axes[6]\n",
    "theta = 45\n",
    "ax.plot([0, 0], [0, theta], transform=ax.get_yaxis_transform(), c=\"k\", lw=2)\n",
    "ax.plot([0, theta], [0, 0], transform=ax.get_xaxis_transform(), c=\"k\", lw=2)\n",
    "ax.text(theta / 2, -0.04, f\"{theta}°\", ha=\"center\", va=\"top\", transform=ax.get_xaxis_transform())\n",
    "ax.text(0, theta / 2, f\"{theta}°\", ha=\"right\", va=\"center\", rotation=90, transform=ax.get_yaxis_transform())\n",
    "savefig(f\"../figures/odor_trajectory_angles.svg\")"
   ],
   "metadata": {
    "collapsed": false,
    "pycharm": {
     "name": "#%%\n"
    }
   }
  },
  {
   "cell_type": "markdown",
   "source": [
    "Compute distance between each pair of PERs.\n",
    "Dynamic time warping (DTW) distance is chosen because PER sequences may have different lengths."
   ],
   "metadata": {
    "collapsed": false,
    "pycharm": {
     "name": "#%% md\n"
    }
   }
  },
  {
   "cell_type": "code",
   "execution_count": null,
   "outputs": [],
   "source": [
    "from pathlib import Path\n",
    "from fastdtw import fastdtw\n",
    "from scipy.spatial.distance import euclidean\n",
    "from tqdm import tqdm\n",
    "\n",
    "n_per = len(df_per)\n",
    "recompute_matrix = False\n",
    "distance_matrix_path = Path(csv_file).with_suffix(\".npy\")\n",
    "\n",
    "D = None\n",
    "\n",
    "if distance_matrix_path.exists() and not recompute_matrix:\n",
    "    D = np.load(distance_matrix_path)\n",
    "\n",
    "    if D.shape != (n_per, n_per):\n",
    "        D = None\n",
    "\n",
    "if D is None:\n",
    "    D = np.zeros((n_per,) * 2)\n",
    "\n",
    "    for i in tqdm(range(n_per)):\n",
    "        for j in range(i, n_per):\n",
    "            D[i, j] = D[j, i] = fastdtw(per_pcs[i], per_pcs[j], radius=2, dist=euclidean)[0]\n",
    "\n",
    "    np.save(distance_matrix_path, D)"
   ],
   "metadata": {
    "collapsed": false,
    "pycharm": {
     "name": "#%%\n"
    }
   }
  },
  {
   "cell_type": "markdown",
   "source": [
    "## PERMANOVA analysis\n",
    "See\n",
    "- https://en.wikipedia.org/wiki/Permutational_analysis_of_variance\n",
    "- Anderson, Marti J. “A new method for non-parametric multivariate analysis of variance.” Austral Ecology 26.1 (2001): 32-46."
   ],
   "metadata": {
    "collapsed": false,
    "pycharm": {
     "name": "#%% md\n"
    }
   }
  },
  {
   "cell_type": "markdown",
   "source": [
    "Test for difference in PER between 9 odors"
   ],
   "metadata": {
    "collapsed": false,
    "pycharm": {
     "name": "#%% md\n"
    }
   }
  },
  {
   "cell_type": "code",
   "execution_count": null,
   "outputs": [],
   "source": [
    "from skbio.stats.distance import permanova, DistanceMatrix\n",
    "\n",
    "odors = df_per.odor.values\n",
    "\n",
    "permutations = 1000\n",
    "cond = np.isin(odors, list(config.ODOR_ID_TO_NAME.values()))\n",
    "results_9_odors = permanova(distance_matrix=DistanceMatrix(D[cond][:, cond]), grouping=odors[cond],\n",
    "                            permutations=permutations)\n",
    "results_9_odors"
   ],
   "metadata": {
    "collapsed": false,
    "pycharm": {
     "name": "#%%\n"
    }
   }
  },
  {
   "cell_type": "markdown",
   "source": [
    "Test for difference in PER between 6 odors (all except Air, Water, MO)"
   ],
   "metadata": {
    "collapsed": false,
    "pycharm": {
     "name": "#%% md\n"
    }
   }
  },
  {
   "cell_type": "code",
   "execution_count": null,
   "outputs": [],
   "source": [
    "cond = np.isin(odors,  (\"EBR\", \"2-PT\", \"IPA\", \"MCH\",\"BNZ\", \"OCT\"))\n",
    "results_6_odors = permanova(distance_matrix=DistanceMatrix(D[cond][:, cond]), grouping=odors[cond],\n",
    "                            permutations=permutations)\n",
    "results_6_odors"
   ],
   "metadata": {
    "collapsed": false,
    "pycharm": {
     "name": "#%%\n"
    }
   }
  },
  {
   "cell_type": "markdown",
   "source": [
    "Test for difference in PER between EBR and BNZ"
   ],
   "metadata": {
    "collapsed": false,
    "pycharm": {
     "name": "#%% md\n"
    }
   }
  },
  {
   "cell_type": "code",
   "execution_count": null,
   "outputs": [],
   "source": [
    "cond = np.isin(odors,  (\"EBR\", \"BNZ\"))\n",
    "results_ebr_bnz = permanova(distance_matrix=DistanceMatrix(D[cond][:, cond]), grouping=odors[cond],\n",
    "                            permutations=permutations)\n",
    "results_ebr_bnz"
   ],
   "metadata": {
    "collapsed": false,
    "pycharm": {
     "name": "#%%\n"
    }
   }
  },
  {
   "cell_type": "markdown",
   "source": [
    "Pairwise PERMANOVA"
   ],
   "metadata": {
    "collapsed": false,
    "pycharm": {
     "name": "#%% md\n"
    }
   }
  },
  {
   "cell_type": "code",
   "execution_count": null,
   "outputs": [],
   "source": [
    "P = np.full((9, 9), np.nan)\n",
    "permutations = 10000\n",
    "\n",
    "for i in tqdm(range(9)):\n",
    "    for j in range(i):\n",
    "        cond = np.isin(odors, (config.ODOR_ID_TO_NAME[i+1], config.ODOR_ID_TO_NAME[j+1]))\n",
    "        results = permanova(distance_matrix=DistanceMatrix(D[cond][:, cond]), grouping=odors[cond],\n",
    "                            permutations=permutations)\n",
    "        P[i, j] = results[\"p-value\"]"
   ],
   "metadata": {
    "collapsed": false,
    "pycharm": {
     "name": "#%%\n"
    }
   }
  },
  {
   "cell_type": "markdown",
   "source": [
    "Plot p-value matrix as a heatmap.\n",
    "- \\* : $p \\leq 0.05$\n",
    "- ** : $p \\leq 0.01$\n",
    "- *** : $p \\leq 0.001$"
   ],
   "metadata": {
    "collapsed": false,
    "pycharm": {
     "name": "#%% md\n"
    }
   }
  },
  {
   "cell_type": "code",
   "execution_count": null,
   "outputs": [],
   "source": [
    "from matplotlib import cm\n",
    "from per_analysis.figures.utils import add_sub_axes\n",
    "\n",
    "fig, ax = plt.subplots()\n",
    "mappable = ax.imshow(P, cmap=cm.Reds, vmin=0, vmax=1)\n",
    "ax.set_xticks(np.arange(9))\n",
    "ax.set_xticklabels(list(config.ODOR_ID_TO_NAME.values()), rotation=90)\n",
    "ax.set_yticks(np.arange(9))\n",
    "ax.set_yticklabels(list(config.ODOR_ID_TO_NAME.values()))\n",
    "\n",
    "for i in range(9):\n",
    "    for j in range(i):\n",
    "        p = P[i, j]\n",
    "        if p <= 0.001:\n",
    "            ax.text(j, i, \"***\", ha=\"center\", va=\"center\")\n",
    "        elif p <= 0.01:\n",
    "            ax.text(j, i, \"**\", ha=\"center\", va=\"center\")\n",
    "        elif p <= 0.05:\n",
    "            ax.text(j, i, \"*\", ha=\"center\", va=\"center\")\n",
    "\n",
    "for spine in ax.spines.values():\n",
    "    spine.set_visible(False)\n",
    "\n",
    "ax.set_xlim(-.5, 7.5)\n",
    "ax.set_ylim(8.5, .5)\n",
    "ax.tick_params(axis=\"both\", length=0)\n",
    "cax = add_sub_axes(ax, [0.74375, .625, .025, .25])\n",
    "cb = fig.colorbar(mappable, cax=cax)\n",
    "cax.set_title(\"$p$-value\", pad=10)\n",
    "cb.set_ticks([0, 1])\n",
    "savefig(\"../figures/permanova_p_value.svg\")"
   ],
   "metadata": {
    "collapsed": false,
    "pycharm": {
     "name": "#%%\n"
    }
   }
  },
  {
   "cell_type": "markdown",
   "source": [
    "## Clustering PER (exploratory)\n",
    "Perform hierarchical clustering on the distance matrix with the Ward's method.\n",
    "Cut the dendrogram at the half-maximum distance to obtain the clusters."
   ],
   "metadata": {
    "collapsed": false,
    "pycharm": {
     "name": "#%% md\n"
    }
   }
  },
  {
   "cell_type": "code",
   "execution_count": null,
   "outputs": [],
   "source": [
    "import scipy.cluster.hierarchy as sch\n",
    "from scipy.spatial.distance import squareform\n",
    "\n",
    "d = squareform(D)\n",
    "L = sch.linkage(d, method=\"ward\")\n",
    "threshold = d.max() / 2\n",
    "threshold\n",
    "labels = sch.fcluster(L, threshold, criterion=\"distance\") - 1"
   ],
   "metadata": {
    "collapsed": false,
    "pycharm": {
     "name": "#%%\n"
    }
   }
  },
  {
   "cell_type": "markdown",
   "source": [
    "Plot the sorted distance matrix with the dendrogram"
   ],
   "metadata": {
    "collapsed": false,
    "pycharm": {
     "name": "#%% md\n"
    }
   }
  },
  {
   "cell_type": "code",
   "execution_count": null,
   "outputs": [],
   "source": [
    "import seaborn as sns\n",
    "from matplotlib.colors import to_hex\n",
    "\n",
    "n_clusters = sch.fcluster(L, threshold, criterion=\"distance\").max()\n",
    "sch.set_link_color_palette([to_hex(i) for i in sns.palettes.husl_palette(n_clusters)])\n",
    "n_clusters\n",
    "wspace = .02\n",
    "\n",
    "with plt.rc_context({'lines.linewidth': 1}):\n",
    "    fig, axes = plt.subplots(1, 2, figsize=(5, 4), gridspec_kw=dict(width_ratios=(.2 - wspace, .8), wspace=wspace))\n",
    "    ax = axes[0]\n",
    "    dend = sch.dendrogram(L, ax=ax, orientation='left', color_threshold=threshold,\n",
    "                          no_labels=True, above_threshold_color=\"gray\",)\n",
    "    ax.invert_yaxis()\n",
    "    ax.axis('off')\n",
    "    ax.axvline(threshold, c=\"k\", ls=\"--\")\n",
    "\n",
    "    ax = axes[1]\n",
    "    argsort = dend[\"leaves\"]\n",
    "    mappable = ax.imshow(D[argsort][:, argsort], cmap=\"magma_r\")\n",
    "    ax.axis(\"off\")\n",
    "    fig.subplots_adjust(left=0, bottom=0, right=1, top=1)\n",
    "    cax = add_sub_axes(ax, [1.02, 0, .02, .2])\n",
    "    cax.set_title(\"Distance\", loc=\"left\")\n",
    "    fig.colorbar(mappable, cax=cax)\n",
    "    savefig(\"../figures/clustering/heatmap_dendrogram.svg\")"
   ],
   "metadata": {
    "collapsed": false,
    "pycharm": {
     "name": "#%%\n"
    }
   }
  },
  {
   "cell_type": "markdown",
   "source": [
    "Plot angle trajectory by cluster"
   ],
   "metadata": {
    "collapsed": false,
    "pycharm": {
     "name": "#%% md\n"
    }
   }
  },
  {
   "cell_type": "code",
   "execution_count": null,
   "outputs": [],
   "source": [
    "from matplotlib.colors import Normalize\n",
    "from matplotlib.cm import ScalarMappable\n",
    "\n",
    "norm = Normalize(vmin=0, vmax=t_max, clip=True)\n",
    "n_col = 3\n",
    "n_row = int(np.ceil(n_clusters / n_col))\n",
    "\n",
    "fig, axes = plt.subplots(n_row, n_col, sharex=\"all\", sharey=\"all\", figsize=(n_col * 1.5, n_row * 1.5))\n",
    "\n",
    "for k in range(n_clusters):\n",
    "    ax = axes.ravel()[k]\n",
    "\n",
    "    for X in per_angles[labels == k]:\n",
    "        cplot(X, c=np.arange(len(X)) / config.FRAME_RATE, norm=norm, cmap=cmap.rainbow, ax=ax, linewidths=.5)\n",
    "\n",
    "for ax in axes.ravel():\n",
    "    ax.axis(\"off\")\n",
    "\n",
    "ax = axes[-1, 0]\n",
    "theta = 45\n",
    "ax.plot([0, 0], [0, theta], transform=ax.get_yaxis_transform(), c=\"k\", lw=2)\n",
    "ax.plot([0, theta], [0, 0], transform=ax.get_xaxis_transform(), c=\"k\", lw=2)\n",
    "ax.text(theta / 2, -0.04, f\"{theta}°\", ha=\"center\", va=\"top\", transform=ax.get_xaxis_transform())\n",
    "ax.text(0, theta / 2, f\"{theta}°\", ha=\"right\", va=\"center\", rotation=90, transform=ax.get_yaxis_transform())\n",
    "fig.subplots_adjust(wspace=0, hspace=0, bottom=0, left=0, right=1, top=1)\n",
    "\n",
    "cax = fig.add_axes([1, .3, .02, .4])\n",
    "mappable = ScalarMappable(cmap=cmap.rainbow, norm=norm)\n",
    "cb = fig.colorbar(mappable, cax=cax)\n",
    "cb.set_label(\"Time (s)\", rotation=270, va=\"bottom\")\n",
    "fig.supxlabel(\"Haustellum angle\", x=.5, y=-0.02, va=\"top\")\n",
    "fig.supylabel(\"Rostrum angle\", x=-0.02, y=.5, ha=\"right\")\n",
    "savefig(\"../figures/clustering/angles.svg\")"
   ],
   "metadata": {
    "collapsed": false,
    "pycharm": {
     "name": "#%%\n"
    }
   }
  }
 ],
 "metadata": {
  "kernelspec": {
   "display_name": "Python 3",
   "language": "python",
   "name": "python3"
  },
  "language_info": {
   "codemirror_mode": {
    "name": "ipython",
    "version": 2
   },
   "file_extension": ".py",
   "mimetype": "text/x-python",
   "name": "python",
   "nbconvert_exporter": "python",
   "pygments_lexer": "ipython2",
   "version": "2.7.6"
  }
 },
 "nbformat": 4,
 "nbformat_minor": 0
}