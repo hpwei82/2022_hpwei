{
 "cells": [
  {
   "cell_type": "markdown",
   "source": [
    "Imports and settings"
   ],
   "metadata": {
    "collapsed": false
   }
  },
  {
   "cell_type": "code",
   "execution_count": null,
   "outputs": [],
   "source": [
    "# auto-reload modules\n",
    "%load_ext autoreload\n",
    "%autoreload 2\n",
    "# display figures in svg format\n",
    "%config InlineBackend.figure_formats = ['svg']\n",
    "\n",
    "# imports\n",
    "import sys\n",
    "from pathlib import Path\n",
    "\n",
    "import matplotlib.pyplot as plt\n",
    "import pandas as pd\n",
    "import seaborn as sns\n",
    "\n",
    "sys.path.append(\"../\")\n",
    "\n",
    "from per_analysis import config\n",
    "from per_analysis.figures import lineplot, rasterplot, savefig\n",
    "from per_analysis.io import read_data\n",
    "from per_analysis.stats import estimate_mode_1d\n",
    "\n",
    "# set maximum dimensions for displaying dataframes\n",
    "pd.set_option(\"display.max_columns\", 27)\n",
    "\n",
    "# load custom matplotlib style sheet\n",
    "plt.style.use(\"../styles/custom.mplstyle\")"
   ],
   "metadata": {
    "collapsed": false,
    "pycharm": {
     "name": "#%%\n"
    }
   }
  },
  {
   "cell_type": "markdown",
   "source": [
    "Read data"
   ],
   "metadata": {
    "collapsed": false
   }
  },
  {
   "cell_type": "code",
   "execution_count": null,
   "outputs": [],
   "source": [
    "df = pd.read_csv(\"../data/WT_50%.csv\")"
   ],
   "metadata": {
    "collapsed": false,
    "pycharm": {
     "name": "#%%\n"
    }
   }
  },
  {
   "cell_type": "markdown",
   "source": [
    "Show the first few rows of the data"
   ],
   "metadata": {
    "collapsed": false
   }
  },
  {
   "cell_type": "code",
   "execution_count": null,
   "outputs": [],
   "source": [
    "df.head(5)"
   ],
   "metadata": {
    "collapsed": false,
    "pycharm": {
     "name": "#%%\n"
    }
   }
  },
  {
   "cell_type": "markdown",
   "source": [
    "List flies with incorrect number of frames"
   ],
   "metadata": {
    "collapsed": false
   }
  },
  {
   "cell_type": "code",
   "execution_count": null,
   "outputs": [],
   "source": [
    "frame_count = (\n",
    "    df.groupby([\"fly\", \"trial\"])\n",
    "    .count()\n",
    "    .unstack(\"trial\")[\"haustellum_angle\"]\n",
    ")\n",
    "\n",
    "frame_count[(frame_count != config.N_FRAMES_PER_TRIAL).any(axis=1)]"
   ],
   "metadata": {
    "collapsed": false,
    "pycharm": {
     "name": "#%%\n"
    }
   }
  },
  {
   "cell_type": "markdown",
   "source": [
    "Remove flies with errors"
   ],
   "metadata": {
    "collapsed": false
   }
  },
  {
   "cell_type": "code",
   "execution_count": null,
   "outputs": [],
   "source": [
    "discard = (\n",
    "    \"20190904-1\",  # trial 10 only has 36 frames\n",
    "    \"20190904-10\",  # inaccurate tracking (e.g., 20190904-10-007 to 20190904-10-09)\n",
    "    \"20190905-5\",  # fly fell off in trial 6\n",
    ")\n",
    "\n",
    "df = df[~df.fly.isin(discard)]"
   ],
   "metadata": {
    "collapsed": false,
    "pycharm": {
     "name": "#%%\n"
    }
   }
  },
  {
   "cell_type": "markdown",
   "source": [
    "Estimate angle baselines and subtract baselines from the angles for comparison between flies"
   ],
   "metadata": {
    "collapsed": false
   }
  },
  {
   "cell_type": "code",
   "source": [
    "baseline = {\n",
    "    angle: {\n",
    "        fly: estimate_mode_1d(df_fly[angle], dx=1)\n",
    "        for fly, df_fly in df.groupby(\"fly\")\n",
    "    }\n",
    "    for angle in (\"rostrum_angle\", \"haustellum_angle\")\n",
    "}\n",
    "\n",
    "for angle in (\"rostrum_angle\", \"haustellum_angle\"):\n",
    "    for fly in df.fly.unique():\n",
    "        df.loc[df.fly == fly, angle] -= baseline[angle][fly]"
   ],
   "metadata": {
    "collapsed": false,
    "pycharm": {
     "name": "#%%\n"
    }
   },
   "execution_count": null,
   "outputs": []
  },
  {
   "cell_type": "markdown",
   "source": [
    "Add additional columns for plotting"
   ],
   "metadata": {
    "collapsed": false,
    "pycharm": {
     "name": "#%% md\n"
    }
   }
  },
  {
   "cell_type": "code",
   "execution_count": null,
   "outputs": [],
   "source": [
    "df[\"time\"] = df.frame / config.FRAME_RATE\n",
    "df[\"trial_name\"] = (df.trial % 3 + 1).astype(str)\n",
    "# display first few rows of the dataframe"
   ],
   "metadata": {
    "collapsed": false,
    "pycharm": {
     "name": "#%%\n"
    }
   }
  },
  {
   "cell_type": "markdown",
   "source": [
    "Settings for figures. Figures will be save in `../figures/`."
   ],
   "metadata": {
    "collapsed": false
   }
  },
  {
   "cell_type": "code",
   "execution_count": null,
   "outputs": [],
   "source": [
    "fig_dir = Path(\"../figures/\")\n",
    "trial_palette = sns.palettes.husl_palette(3, s=1, l=0.6)\n",
    "angle_labels = dict(\n",
    "    rostrum_angle=\"Rostrum angle (°)\", haustellum_angle=\"Haustellum angle (°)\"\n",
    ")\n",
    "angle_cmaps = dict(rostrum_angle=\"Oranges\", haustellum_angle=\"Blues\")\n",
    "angle_colors = dict(rostrum_angle=\"C1\", haustellum_angle=\"C0\")"
   ],
   "metadata": {
    "collapsed": false,
    "pycharm": {
     "name": "#%%\n"
    }
   }
  },
  {
   "cell_type": "markdown",
   "source": [
    "Angle to plot (`\"rostrum_angle\"` or `\"haustellum_angle\"`)"
   ],
   "metadata": {
    "collapsed": false
   }
  },
  {
   "cell_type": "code",
   "execution_count": null,
   "outputs": [],
   "source": [
    "angle = \"rostrum_angle\""
   ],
   "metadata": {
    "collapsed": false,
    "pycharm": {
     "name": "#%%\n"
    }
   }
  },
  {
   "cell_type": "markdown",
   "source": [
    "Plot individual flies for data verification. Results are saved to the figure directory."
   ],
   "metadata": {
    "collapsed": false
   }
  },
  {
   "cell_type": "code",
   "execution_count": null,
   "outputs": [],
   "source": [
    "for fly, df_fly in df.groupby(\"fly\"):\n",
    "    df_fly = df_fly.copy()\n",
    "    df_fly[angle] += baseline[angle][fly]\n",
    "    g = lineplot(\n",
    "        df_fly,\n",
    "        x=\"time\",\n",
    "        y=angle,\n",
    "        xlabel=\"Time (s)\",\n",
    "        ylabel=angle_labels[angle],\n",
    "        hlines=baseline[angle][fly],\n",
    "        vlines=config.ODOR_INTERVAL,\n",
    "        spines=True,\n",
    "        lineplot_kws={\n",
    "            \"lw\": 0.5,\n",
    "            \"hue\": \"trial_name\",\n",
    "            \"estimator\": None,\n",
    "            \"palette\": trial_palette,\n",
    "        },\n",
    "        wspace=0.1,\n",
    "        hspace=0.3,\n",
    "    )\n",
    "    g.add_legend(\n",
    "        title=\"Trial\",\n",
    "        handlelength=1,\n",
    "        borderaxespad=1,\n",
    "        borderpad=0,\n",
    "        loc=\"center left\",\n",
    "        bbox_to_anchor=(1, 0.5),\n",
    "        bbox_transform=g.axes[5].transAxes,\n",
    "    )\n",
    "    savefig(fig_dir / \"individual_fly\" / angle / f\"{fly}.svg\")\n",
    "    plt.close()"
   ],
   "metadata": {
    "collapsed": false,
    "pycharm": {
     "name": "#%%\n"
    }
   }
  },
  {
   "cell_type": "markdown",
   "source": [
    "Angle averaged over flies\n",
    "- Shaded areas are 95% confidence intervals\n",
    "- Horizontal dotted lines indicate the baseline (angle at resting state)\n",
    "- Vertical dotted lines indicate the interval within which the odor was presented"
   ],
   "metadata": {
    "collapsed": false,
    "pycharm": {
     "name": "#%% md\n"
    }
   }
  },
  {
   "cell_type": "code",
   "execution_count": null,
   "outputs": [],
   "source": [
    "fig = lineplot(\n",
    "    df,\n",
    "    x=\"time\",\n",
    "    y=angle,\n",
    "    xlabel=\"Time (s)\",\n",
    "    ylabel=angle_labels[angle],\n",
    "    spines=False,\n",
    "    hlines=(0,),\n",
    "    vlines=config.ODOR_INTERVAL,\n",
    "    lineplot_kws={\n",
    "        \"lw\": 1,\n",
    "        \"ci\": 95,\n",
    "        \"err_kws\": {\"lw\": 0},\n",
    "        \"color\": angle_colors[angle],\n",
    "    },\n",
    "    wspace=0.1,\n",
    "    hspace=0.3,\n",
    "    y_scale_bar_length=30,\n",
    ")\n",
    "savefig(fig_dir / f\"{angle}_mean_ci_95.svg\")"
   ],
   "metadata": {
    "collapsed": false,
    "pycharm": {
     "name": "#%%\n"
    }
   }
  },
  {
   "cell_type": "markdown",
   "source": [
    "Raster plot\n",
    "- Each row represents 1 fly\n",
    "- For each fly, 3 trials of the same odor are concatenated (15 s x 3 = 45 s)\n",
    "- Baseline (angle at resting state) was subtracted for inter-fly comparison\n",
    "- Black triangles indicate the interval within which the odor was presented"
   ],
   "metadata": {
    "collapsed": false,
    "pycharm": {
     "name": "#%% md\n"
    }
   }
  },
  {
   "cell_type": "code",
   "execution_count": null,
   "outputs": [],
   "source": [
    "fig = rasterplot(\n",
    "    df,\n",
    "    x=\"time\",\n",
    "    y=angle,\n",
    "    ylabel=\"Fly\",\n",
    "    vlines=config.ODOR_INTERVALS_3_TRIALS,\n",
    "    vline_kws=dict(\n",
    "        marker=6,\n",
    "        markersize=3,\n",
    "        markeredgewidth=0,\n",
    "        markevery=2,\n",
    "        clip_on=False,\n",
    "        mfc=\"k\",\n",
    "        lw=0,\n",
    "    ),\n",
    "    cb_label=angle_labels[angle],\n",
    "    cmap=angle_cmaps[angle],\n",
    "    time_scale_bar=5,\n",
    "    cb_height=1.5,\n",
    ")\n",
    "savefig(fig_dir / f\"{angle}_raster.svg\")"
   ],
   "metadata": {
    "collapsed": false,
    "pycharm": {
     "name": "#%%\n"
    }
   }
  },
  {
   "cell_type": "markdown",
   "source": [
    "PER duration calculation. PER is defined as when $\\theta_{haustellum} \\geq 90^\\circ$."
   ],
   "metadata": {
    "collapsed": false,
    "pycharm": {
     "name": "#%% md\n"
    }
   }
  },
  {
   "cell_type": "code",
   "execution_count": null,
   "outputs": [],
   "source": [
    "haustellum_angle_threshold = 90\n",
    "df[\"time_bin\"] = df.time.astype(int) + 0.5\n",
    "df[\"haustellum_angle_exceeds_threshold\"] = (\n",
    "    df.haustellum_angle >= haustellum_angle_threshold\n",
    ")\n",
    "df_per_duration = (\n",
    "    df.groupby([\"fly\", \"odor\", \"trial_name\", \"time_bin\"])\n",
    "    .mean()\n",
    "    .haustellum_angle_exceeds_threshold.to_frame(\"per_duration\")\n",
    "    .reset_index()\n",
    ")\n",
    "df_per_duration"
   ],
   "metadata": {
    "collapsed": false,
    "pycharm": {
     "name": "#%%\n"
    }
   }
  },
  {
   "cell_type": "markdown",
   "source": [
    "PER duration\n",
    "- Error bars are 95% confidence intervals\n",
    "- Shaded area indicates the odor presentation period"
   ],
   "metadata": {
    "collapsed": false,
    "pycharm": {
     "name": "#%% md\n"
    }
   }
  },
  {
   "cell_type": "code",
   "execution_count": null,
   "outputs": [],
   "source": [
    "lineplot(\n",
    "    df_per_duration,\n",
    "    x=\"time_bin\",\n",
    "    y=\"per_duration\",\n",
    "    xlabel=\"Time (s)\",\n",
    "    ylabel=\"PER duration (s)\",\n",
    "    vspans=((2, 4),),\n",
    "    vspan_kws=dict(lw=0, fc=\"k\", alpha=0.1),\n",
    "    xmargin=None,\n",
    "    lineplot_kws=dict(\n",
    "        ci=95,\n",
    "        color=\"k\",\n",
    "        err_style=\"bars\",\n",
    "        lw=0.5,\n",
    "        err_kws=dict(elinewidth=0.5, capsize=1, capthick=0.5),\n",
    "        marker=\"D\",\n",
    "        markersize=2,\n",
    "        markeredgewidth=0,\n",
    "    ),\n",
    ")\n",
    "savefig(fig_dir / f\"per_duration.svg\")"
   ],
   "metadata": {
    "collapsed": false,
    "pycharm": {
     "name": "#%%\n"
    }
   }
  },
  {
   "cell_type": "markdown",
   "source": [
    "Sum PER duration from 2 to 7 s to get the integrated PER duration. The PER probability is 1.0 for trials whose\n",
    "integrated PER duration is greater than 0. Otherwise, the PER probability is 0."
   ],
   "metadata": {
    "collapsed": false,
    "pycharm": {
     "name": "#%% md\n"
    }
   }
  },
  {
   "cell_type": "code",
   "execution_count": null,
   "outputs": [],
   "source": [
    "df_integrated_per_duration = df_per_duration[(df_per_duration.time_bin >= 2) & (df_per_duration.time_bin < 7)].groupby([\"fly\", \"odor\", \"trial_name\"]).sum()[[\"per_duration\"]].rename({\"per_duration\": \"integrated_per_duration\"})\n",
    "df_integrated_per_duration[\"per_probability\"] = (df_integrated_per_duration.per_duration != 0).astype(float)\n",
    "df_integrated_per_duration"
   ],
   "metadata": {
    "collapsed": false,
    "pycharm": {
     "name": "#%%\n"
    }
   }
  },
  {
   "cell_type": "markdown",
   "source": [
    "Plot PER probability. Error bars are 95% confidence interval."
   ],
   "metadata": {
    "collapsed": false,
    "pycharm": {
     "name": "#%% md\n"
    }
   }
  },
  {
   "cell_type": "code",
   "execution_count": null,
   "outputs": [],
   "source": [
    "fig, ax = plt.subplots(figsize=(4, 2))\n",
    "sns.barplot(\n",
    "    data=df_integrated_per_duration.reset_index(),\n",
    "    x=\"odor\",\n",
    "    y=\"per_probability\",\n",
    "    order=config.ODOR_LINEAR_ORDER,\n",
    "    color=\"k\",\n",
    "    errcolor=\"k\",\n",
    "    errwidth=1,\n",
    "    capsize=.2,\n",
    "    ci=95,\n",
    "    n_boot=1000,\n",
    "    ax=ax,\n",
    ")\n",
    "for side in (\"top\", \"right\"):\n",
    "    ax.spines[side].set_visible(False)\n",
    "ax.set_ylabel(\"PER probability\")\n",
    "ax.set_xlabel(None)\n",
    "savefig(fig_dir / f\"per_probability.svg\")"
   ],
   "metadata": {
    "collapsed": false,
    "pycharm": {
     "name": "#%%\n"
    }
   }
  }
 ],
 "metadata": {
  "kernelspec": {
   "display_name": "Python 3 (ipykernel)",
   "language": "python",
   "name": "python3"
  },
  "language_info": {
   "codemirror_mode": {
    "name": "ipython",
    "version": 3
   },
   "file_extension": ".py",
   "mimetype": "text/x-python",
   "name": "python",
   "nbconvert_exporter": "python",
   "pygments_lexer": "ipython3",
   "version": "3.8.10"
  }
 },
 "nbformat": 4,
 "nbformat_minor": 5
}